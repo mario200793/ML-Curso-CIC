{
 "cells": [
  {
   "cell_type": "markdown",
   "metadata": {
    "colab_type": "text",
    "id": "WGjtrfMiUqZk"
   },
   "source": [
    "# Práctica 1: Perceptrón"
   ]
  },
  {
   "cell_type": "code",
   "execution_count": 1,
   "metadata": {
    "colab": {},
    "colab_type": "code",
    "id": "cGdDI29AUqZo"
   },
   "outputs": [
    {
     "name": "stdout",
     "output_type": "stream",
     "text": [
      "2.1.0\n"
     ]
    }
   ],
   "source": [
    "# Imports\n",
    "\n",
    "# Si se usa colab usar este try\n",
    "#try:\n",
    "#  %tensorflow_version 2.x\n",
    "#except Exception:\n",
    "#  pass\n",
    "\n",
    "import tensorflow as tf\n",
    "print(tf.__version__)\n",
    "\n",
    "from tensorflow import keras"
   ]
  },
  {
   "cell_type": "markdown",
   "metadata": {
    "colab_type": "text",
    "id": "EVHtHSdY9Bnm"
   },
   "source": [
    "## 1.1 Una instancia del problema del cine\n",
    "\n",
    "1. Crea una instancia del problema del cine visto en las diapositivas (ej. [clima=1, lugar=-1, pareja=-1] --> voy\n",
    ").\n",
    "2. Implementa un perceptrón en Keras usando una capa densa con una unidad y función de activación lineal. A la salida del perceptrón aplica la función signo.\n",
    "3. Verifica que la solución del pizarrón y de la implementación en Keras coincidan."
   ]
  },
  {
   "cell_type": "code",
   "execution_count": 13,
   "metadata": {
    "colab": {},
    "colab_type": "code",
    "id": "rQU0VkPQUqZs"
   },
   "outputs": [
    {
     "name": "stdout",
     "output_type": "stream",
     "text": [
      "tf.Tensor([[ 1. -1. -1.]], shape=(1, 3), dtype=float32)\n"
     ]
    }
   ],
   "source": [
    "# Creación de datos\n",
    "# [clima=1, lugar=-1, pareja=-1] --> voy\n",
    "data = tf.constant([[1.,-1.,-1.]]) # batch\n",
    "\n",
    "print(data)"
   ]
  },
  {
   "cell_type": "code",
   "execution_count": 14,
   "metadata": {
    "colab": {},
    "colab_type": "code",
    "id": "iUx9AIULUqZu"
   },
   "outputs": [
    {
     "name": "stdout",
     "output_type": "stream",
     "text": [
      "tf.Tensor([[3.]], shape=(1, 1), dtype=float32)\n"
     ]
    }
   ],
   "source": [
    "# Implementación del perceptrón\n",
    "from tensorflow.keras.layers import Dense\n",
    "perceptron = Dense(units=1,\n",
    "              activation=\"linear\",\n",
    "              use_bias=True,\n",
    "              kernel_initializer=tf.keras.initializers.constant([3.,1.,1.]), # <-- ¿pesos? #Ponemos el kernel\n",
    "              bias_initializer=tf.keras.initializers.constant([2.])) # <-- ¿bias? # Ponemos el bias\n",
    "\n",
    "# Aplicamos el model modelo a nuestros datos\n",
    "result = perceptron(data)\n",
    "print(result)"
   ]
  },
  {
   "cell_type": "code",
   "execution_count": 15,
   "metadata": {
    "colab": {},
    "colab_type": "code",
    "id": "hekur2It8HnZ"
   },
   "outputs": [
    {
     "name": "stdout",
     "output_type": "stream",
     "text": [
      "tf.Tensor([[1.]], shape=(1, 1), dtype=float32)\n"
     ]
    }
   ],
   "source": [
    "# Función signo # si sale 1 vamos al cine, si sale -1 no vamos :( )\n",
    "result = tf.math.sign(result)\n",
    "print(result)"
   ]
  },
  {
   "cell_type": "markdown",
   "metadata": {
    "colab_type": "text",
    "id": "gAzVrxYR-Sct"
   },
   "source": [
    "## 1.2 Todas las instancias del problema del cine\n",
    "\n",
    "1. Crea todas instancias del problema del cine visto en las diapositivas.\n",
    "2. Implementa un perceptrón en Keras usando una capa densa con una unidad y función de activación lineal. A la salida del perceptrón aplica la función signo.\n",
    "3. Verifica que la solución del pizarrón y de la implementación en Keras coincidan.\n",
    "\n",
    "Instancias:\n",
    "* [clima=-1, lugar=-1, pareja=-1] --> No\n",
    "* [clima=-1, lugar=-1, pareja=1] --> No\n",
    "* [clima=-1, lugar=1, pareja=-1] --> No\n",
    "* [clima=-1, lugar=1, pareja=1] --> Sí\n",
    "* [clima=1, lugar=-1, pareja=-1] --> Sí\n",
    "* [clima=1, lugar=-1, pareja=1] --> Sí\n",
    "* [clima=1, lugar=1, pareja=-1] --> Sí\n",
    "* [clima=1, lugar=1, pareja=1] --> Sí"
   ]
  },
  {
   "cell_type": "code",
   "execution_count": 17,
   "metadata": {
    "colab": {},
    "colab_type": "code",
    "id": "V8PngRCG37pd"
   },
   "outputs": [
    {
     "name": "stdout",
     "output_type": "stream",
     "text": [
      "tf.Tensor(\n",
      "[[-1 -1 -1]\n",
      " [-1 -1  1]\n",
      " [-1  1 -1]\n",
      " [-1  1  1]\n",
      " [ 1 -1 -1]\n",
      " [ 1 -1  1]\n",
      " [ 1  1 -1]\n",
      " [ 1  1  1]], shape=(8, 3), dtype=int32)\n"
     ]
    }
   ],
   "source": [
    "# Creación de datos\n",
    "data = tf.constant([[-1,-1,-1],\n",
    "                     [-1,-1,1],\n",
    "                     [-1,1,-1],\n",
    "                     [-1,1,1],\n",
    "                     [1,-1,-1],\n",
    "                     [1,-1,1],\n",
    "                     [1,1,-1],\n",
    "                     [1,1,1]]) # batch\n",
    "\n",
    "print(data)"
   ]
  },
  {
   "cell_type": "code",
   "execution_count": 18,
   "metadata": {
    "colab": {},
    "colab_type": "code",
    "id": "iDfVgTPG52QY"
   },
   "outputs": [
    {
     "name": "stdout",
     "output_type": "stream",
     "text": [
      "tf.Tensor(\n",
      "[[-3.]\n",
      " [-1.]\n",
      " [-1.]\n",
      " [ 1.]\n",
      " [ 3.]\n",
      " [ 5.]\n",
      " [ 5.]\n",
      " [ 7.]], shape=(8, 1), dtype=float32)\n"
     ]
    }
   ],
   "source": [
    "# Implementación del perceptrón\n",
    "from tensorflow.keras.layers import Dense\n",
    "perceptron = Dense(units=1,\n",
    "              activation=\"linear\",\n",
    "              use_bias=True,\n",
    "              kernel_initializer=tf.keras.initializers.constant([3.,1.,1.]), # <-- ¿pesos? \n",
    "              bias_initializer=tf.keras.initializers.constant([2.])) # <-- ¿bias? \n",
    "\n",
    "# Aplicamos el model modelo a nuestros datos\n",
    "result = perceptron(data)\n",
    "\n",
    "print(result)"
   ]
  },
  {
   "cell_type": "code",
   "execution_count": 19,
   "metadata": {
    "colab": {},
    "colab_type": "code",
    "id": "80SKaa7L8PBg"
   },
   "outputs": [
    {
     "name": "stdout",
     "output_type": "stream",
     "text": [
      "tf.Tensor(\n",
      "[[-1.]\n",
      " [-1.]\n",
      " [-1.]\n",
      " [ 1.]\n",
      " [ 1.]\n",
      " [ 1.]\n",
      " [ 1.]\n",
      " [ 1.]], shape=(8, 1), dtype=float32)\n"
     ]
    }
   ],
   "source": [
    "# Función signo\n",
    "result = tf.math.sign(result)\n",
    "print(result)"
   ]
  },
  {
   "cell_type": "code",
   "execution_count": null,
   "metadata": {},
   "outputs": [],
   "source": []
  }
 ],
 "metadata": {
  "accelerator": "GPU",
  "colab": {
   "collapsed_sections": [],
   "name": "P1_perceptron.ipynb",
   "provenance": []
  },
  "kernelspec": {
   "display_name": "Python 3",
   "language": "python",
   "name": "python3"
  },
  "language_info": {
   "codemirror_mode": {
    "name": "ipython",
    "version": 3
   },
   "file_extension": ".py",
   "mimetype": "text/x-python",
   "name": "python",
   "nbconvert_exporter": "python",
   "pygments_lexer": "ipython3",
   "version": "3.7.6"
  }
 },
 "nbformat": 4,
 "nbformat_minor": 1
}
