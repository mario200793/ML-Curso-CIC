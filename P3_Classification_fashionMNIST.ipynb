{
 "cells": [
  {
   "cell_type": "markdown",
   "metadata": {
    "colab_type": "text",
    "id": "o9_zaHRCYoIy"
   },
   "source": [
    "# Clasificación multiclase con redes neuronales en Keras\n",
    "___"
   ]
  },
  {
   "cell_type": "code",
   "execution_count": 1,
   "metadata": {
    "colab": {},
    "colab_type": "code",
    "id": "aKrVkVmrYoI1"
   },
   "outputs": [
    {
     "name": "stdout",
     "output_type": "stream",
     "text": [
      "2.1.0\n"
     ]
    }
   ],
   "source": [
    "# Imports\n",
    "#try:\n",
    "#  # %tensorflow_version only exists in Colab.\n",
    "#  %tensorflow_version 2.x\n",
    "#except Exception:\n",
    "#  pass\n",
    "\n",
    "import tensorflow as tf\n",
    "print(tf.__version__)"
   ]
  },
  {
   "cell_type": "code",
   "execution_count": 2,
   "metadata": {
    "colab": {},
    "colab_type": "code",
    "id": "_QK5RoWoYoI5"
   },
   "outputs": [],
   "source": [
    "# Helper libraries\n",
    "import numpy as np\n",
    "import matplotlib.pyplot as plt"
   ]
  },
  {
   "cell_type": "code",
   "execution_count": null,
   "metadata": {
    "colab": {},
    "colab_type": "code",
    "id": "RE2L0KjqeQv7"
   },
   "outputs": [],
   "source": [
    "# Google drive session\n",
    "from google.colab import drive\n",
    "drive.mount('/content/gdrive')"
   ]
  },
  {
   "cell_type": "markdown",
   "metadata": {
    "colab_type": "text",
    "id": "P-efXIz5YoI7"
   },
   "source": [
    "## Importar Dataset"
   ]
  },
  {
   "cell_type": "code",
   "execution_count": 3,
   "metadata": {
    "colab": {},
    "colab_type": "code",
    "id": "A83AM1LGYoI7"
   },
   "outputs": [
    {
     "name": "stdout",
     "output_type": "stream",
     "text": [
      "Downloading data from https://storage.googleapis.com/tensorflow/tf-keras-datasets/train-labels-idx1-ubyte.gz\n",
      "32768/29515 [=================================] - 0s 3us/step\n",
      "Downloading data from https://storage.googleapis.com/tensorflow/tf-keras-datasets/train-images-idx3-ubyte.gz\n",
      "26427392/26421880 [==============================] - 1s 0us/step: \n",
      "Downloading data from https://storage.googleapis.com/tensorflow/tf-keras-datasets/t10k-labels-idx1-ubyte.gz\n",
      "8192/5148 [===============================================] - 0s 0us/step\n",
      "Downloading data from https://storage.googleapis.com/tensorflow/tf-keras-datasets/t10k-images-idx3-ubyte.gz\n",
      "4423680/4422102 [==============================] - 0s 0us/step\n"
     ]
    }
   ],
   "source": [
    "fashion_mnist = tf.keras.datasets.fashion_mnist\n",
    "(X_train_full, y_train_full), (X_test, y_test) = fashion_mnist.load_data()"
   ]
  },
  {
   "cell_type": "markdown",
   "metadata": {
    "colab_type": "text",
    "id": "l433PKJsYoI9"
   },
   "source": [
    "## Explorar el dataset"
   ]
  },
  {
   "cell_type": "markdown",
   "metadata": {
    "colab_type": "text",
    "id": "M5yMiDTNYoI-"
   },
   "source": [
    "#### Conjunto de entrenamiento"
   ]
  },
  {
   "cell_type": "code",
   "execution_count": 9,
   "metadata": {
    "colab": {},
    "colab_type": "code",
    "id": "aiaMPH5aYoI-"
   },
   "outputs": [
    {
     "data": {
      "text/plain": [
       "(60000, 28, 28)"
      ]
     },
     "execution_count": 9,
     "metadata": {},
     "output_type": "execute_result"
    }
   ],
   "source": [
    "X_train_full.shape"
   ]
  },
  {
   "cell_type": "code",
   "execution_count": 18,
   "metadata": {
    "colab": {},
    "colab_type": "code",
    "id": "nRCkVEbnYoJA"
   },
   "outputs": [
    {
     "data": {
      "text/plain": [
       "array([[[0, 0, 0, ..., 0, 0, 0],\n",
       "        [0, 0, 0, ..., 0, 0, 0],\n",
       "        [0, 0, 0, ..., 0, 0, 0],\n",
       "        ...,\n",
       "        [0, 0, 0, ..., 0, 0, 0],\n",
       "        [0, 0, 0, ..., 0, 0, 0],\n",
       "        [0, 0, 0, ..., 0, 0, 0]],\n",
       "\n",
       "       [[0, 0, 0, ..., 0, 0, 0],\n",
       "        [0, 0, 0, ..., 0, 0, 0],\n",
       "        [0, 0, 0, ..., 0, 0, 0],\n",
       "        ...,\n",
       "        [0, 0, 0, ..., 0, 0, 0],\n",
       "        [0, 0, 0, ..., 0, 0, 0],\n",
       "        [0, 0, 0, ..., 0, 0, 0]],\n",
       "\n",
       "       [[0, 0, 0, ..., 0, 0, 0],\n",
       "        [0, 0, 0, ..., 0, 0, 0],\n",
       "        [0, 0, 0, ..., 0, 0, 0],\n",
       "        ...,\n",
       "        [0, 0, 0, ..., 0, 0, 0],\n",
       "        [0, 0, 0, ..., 0, 0, 0],\n",
       "        [0, 0, 0, ..., 0, 0, 0]],\n",
       "\n",
       "       ...,\n",
       "\n",
       "       [[0, 0, 0, ..., 0, 0, 0],\n",
       "        [0, 0, 0, ..., 0, 0, 0],\n",
       "        [0, 0, 0, ..., 0, 0, 0],\n",
       "        ...,\n",
       "        [0, 0, 0, ..., 0, 0, 0],\n",
       "        [0, 0, 0, ..., 0, 0, 0],\n",
       "        [0, 0, 0, ..., 0, 0, 0]],\n",
       "\n",
       "       [[0, 0, 0, ..., 0, 0, 0],\n",
       "        [0, 0, 0, ..., 0, 0, 0],\n",
       "        [0, 0, 0, ..., 0, 0, 0],\n",
       "        ...,\n",
       "        [0, 0, 0, ..., 0, 0, 0],\n",
       "        [0, 0, 0, ..., 0, 0, 0],\n",
       "        [0, 0, 0, ..., 0, 0, 0]],\n",
       "\n",
       "       [[0, 0, 0, ..., 0, 0, 0],\n",
       "        [0, 0, 0, ..., 0, 0, 0],\n",
       "        [0, 0, 0, ..., 0, 0, 0],\n",
       "        ...,\n",
       "        [0, 0, 0, ..., 0, 0, 0],\n",
       "        [0, 0, 0, ..., 0, 0, 0],\n",
       "        [0, 0, 0, ..., 0, 0, 0]]], dtype=uint8)"
      ]
     },
     "execution_count": 18,
     "metadata": {},
     "output_type": "execute_result"
    }
   ],
   "source": [
    "X_train_full"
   ]
  },
  {
   "cell_type": "code",
   "execution_count": 11,
   "metadata": {
    "colab": {},
    "colab_type": "code",
    "id": "QgBkPcVzYoJC"
   },
   "outputs": [
    {
     "data": {
      "text/plain": [
       "(60000,)"
      ]
     },
     "execution_count": 11,
     "metadata": {},
     "output_type": "execute_result"
    }
   ],
   "source": [
    "y_train_full.shape"
   ]
  },
  {
   "cell_type": "code",
   "execution_count": 19,
   "metadata": {
    "colab": {},
    "colab_type": "code",
    "id": "kuT--N78YoJE"
   },
   "outputs": [
    {
     "data": {
      "text/plain": [
       "array([9, 0, 0, ..., 3, 0, 5], dtype=uint8)"
      ]
     },
     "execution_count": 19,
     "metadata": {},
     "output_type": "execute_result"
    }
   ],
   "source": [
    "y_train_full"
   ]
  },
  {
   "cell_type": "markdown",
   "metadata": {
    "colab_type": "text",
    "id": "K6GnAfBaYoJH"
   },
   "source": [
    "#### Conjunto de prueba"
   ]
  },
  {
   "cell_type": "code",
   "execution_count": 13,
   "metadata": {
    "colab": {},
    "colab_type": "code",
    "id": "f4UlzurzYoJI"
   },
   "outputs": [
    {
     "data": {
      "text/plain": [
       "(10000, 28, 28)"
      ]
     },
     "execution_count": 13,
     "metadata": {},
     "output_type": "execute_result"
    }
   ],
   "source": [
    "X_test.shape"
   ]
  },
  {
   "cell_type": "code",
   "execution_count": 14,
   "metadata": {
    "colab": {},
    "colab_type": "code",
    "id": "iOEqbz4fYoJK"
   },
   "outputs": [
    {
     "data": {
      "text/plain": [
       "(10000,)"
      ]
     },
     "execution_count": 14,
     "metadata": {},
     "output_type": "execute_result"
    }
   ],
   "source": [
    "y_test.shape"
   ]
  },
  {
   "cell_type": "markdown",
   "metadata": {
    "colab_type": "text",
    "id": "aObXJk6UYoJL"
   },
   "source": [
    "#### Visualizando una instancia"
   ]
  },
  {
   "cell_type": "code",
   "execution_count": 24,
   "metadata": {
    "colab": {},
    "colab_type": "code",
    "id": "QEVXt1RpYoJM"
   },
   "outputs": [
    {
     "data": {
      "image/png": "[encoded data removed]",
      "text/plain": [
       "<Figure size 432x288 with 2 Axes>"
      ]
     },
     "metadata": {
      "needs_background": "light"
     },
     "output_type": "display_data"
    }
   ],
   "source": [
    "plt.figure()\n",
    "plt.imshow(X_train_full[0])\n",
    "plt.colorbar()\n",
    "plt.grid(True)\n",
    "plt.show()"
   ]
  },
  {
   "cell_type": "markdown",
   "metadata": {
    "colab_type": "text",
    "id": "Jx_su8aOYoJO"
   },
   "source": [
    "#### Clases"
   ]
  },
  {
   "cell_type": "code",
   "execution_count": 27,
   "metadata": {
    "colab": {},
    "colab_type": "code",
    "id": "TzsN_9HGYoJO"
   },
   "outputs": [
    {
     "data": {
      "text/plain": [
       "array([9, 0, 0, 3, 0, 2, 7, 2, 5, 5], dtype=uint8)"
      ]
     },
     "execution_count": 27,
     "metadata": {},
     "output_type": "execute_result"
    }
   ],
   "source": [
    "y_train_full[:10]"
   ]
  },
  {
   "cell_type": "code",
   "execution_count": 21,
   "metadata": {
    "colab": {},
    "colab_type": "code",
    "id": "WWHd0MJiYoJQ"
   },
   "outputs": [],
   "source": [
    "class_names = [\"T-shirt/top\", \"Trouser\", \"Pullover\", \"Dress\", \"Coat\",\n",
    "                   \"Sandal\", \"Shirt\", \"Sneaker\", \"Bag\", \"Ankle boot\"]"
   ]
  },
  {
   "cell_type": "code",
   "execution_count": 28,
   "metadata": {
    "colab": {},
    "colab_type": "code",
    "id": "vTemvwdiYoJS"
   },
   "outputs": [
    {
     "data": {
      "text/plain": [
       "'T-shirt/top'"
      ]
     },
     "execution_count": 28,
     "metadata": {},
     "output_type": "execute_result"
    }
   ],
   "source": [
    "class_names[y_train_full[1]]"
   ]
  },
  {
   "cell_type": "markdown",
   "metadata": {
    "colab_type": "text",
    "id": "ryp0KXnOYoJU"
   },
   "source": [
    "#### Visualizando las primeras 25 instancias"
   ]
  },
  {
   "cell_type": "code",
   "execution_count": 25,
   "metadata": {
    "colab": {},
    "colab_type": "code",
    "id": "8q2zmp8LYoJU"
   },
   "outputs": [
    {
     "data": {
      "image/png": "[encoded data removed]",
      "text/plain": [
       "<Figure size 720x720 with 25 Axes>"
      ]
     },
     "metadata": {},
     "output_type": "display_data"
    }
   ],
   "source": [
    "plt.figure(figsize=(10,10))\n",
    "for i in range(0,25):\n",
    "    plt.subplot(5,5, i+1)\n",
    "    plt.imshow(X_train_full[i])\n",
    "    #plt.imshow(X_train_full[i], cmap=plt.cm.binary)\n",
    "    plt.title(class_names[(y_train_full[i])])\n",
    "    plt.grid(False)\n",
    "    plt.xticks([])\n",
    "    plt.yticks([])\n",
    "plt.show()"
   ]
  },
  {
   "cell_type": "markdown",
   "metadata": {
    "colab_type": "text",
    "id": "GrKHm_dHYoJW"
   },
   "source": [
    "## Preprocesamiento"
   ]
  },
  {
   "cell_type": "markdown",
   "metadata": {
    "colab_type": "text",
    "id": "-OujpDIxYoJX"
   },
   "source": [
    "#### Escalamiento de características"
   ]
  },
  {
   "cell_type": "code",
   "execution_count": 29,
   "metadata": {
    "colab": {},
    "colab_type": "code",
    "id": "LnVWIFfXYoJY",
    "scrolled": true
   },
   "outputs": [
    {
     "data": {
      "text/plain": [
       "array([[  0,   0,   0,   0,   0,   0,   0,   0,   0,   0,   0,   0,   0,\n",
       "          0,   0,   0,   0,   0,   0,   0,   0,   0,   0,   0,   0,   0,\n",
       "          0,   0],\n",
       "       [  0,   0,   0,   0,   0,   0,   0,   0,   0,   0,   0,   0,   0,\n",
       "          0,   0,   0,   0,   0,   0,   0,   0,   0,   0,   0,   0,   0,\n",
       "          0,   0],\n",
       "       [  0,   0,   0,   0,   0,   0,   0,   0,   0,   0,   0,   0,   0,\n",
       "          0,   0,   0,   0,   0,   0,   0,   0,   0,   0,   0,   0,   0,\n",
       "          0,   0],\n",
       "       [  0,   0,   0,   0,   0,   0,   0,   0,   0,   0,   0,   0,   1,\n",
       "          0,   0,  13,  73,   0,   0,   1,   4,   0,   0,   0,   0,   1,\n",
       "          1,   0],\n",
       "       [  0,   0,   0,   0,   0,   0,   0,   0,   0,   0,   0,   0,   3,\n",
       "          0,  36, 136, 127,  62,  54,   0,   0,   0,   1,   3,   4,   0,\n",
       "          0,   3],\n",
       "       [  0,   0,   0,   0,   0,   0,   0,   0,   0,   0,   0,   0,   6,\n",
       "          0, 102, 204, 176, 134, 144, 123,  23,   0,   0,   0,   0,  12,\n",
       "         10,   0],\n",
       "       [  0,   0,   0,   0,   0,   0,   0,   0,   0,   0,   0,   0,   0,\n",
       "          0, 155, 236, 207, 178, 107, 156, 161, 109,  64,  23,  77, 130,\n",
       "         72,  15],\n",
       "       [  0,   0,   0,   0,   0,   0,   0,   0,   0,   0,   0,   1,   0,\n",
       "         69, 207, 223, 218, 216, 216, 163, 127, 121, 122, 146, 141,  88,\n",
       "        172,  66],\n",
       "       [  0,   0,   0,   0,   0,   0,   0,   0,   0,   1,   1,   1,   0,\n",
       "        200, 232, 232, 233, 229, 223, 223, 215, 213, 164, 127, 123, 196,\n",
       "        229,   0],\n",
       "       [  0,   0,   0,   0,   0,   0,   0,   0,   0,   0,   0,   0,   0,\n",
       "        183, 225, 216, 223, 228, 235, 227, 224, 222, 224, 221, 223, 245,\n",
       "        173,   0],\n",
       "       [  0,   0,   0,   0,   0,   0,   0,   0,   0,   0,   0,   0,   0,\n",
       "        193, 228, 218, 213, 198, 180, 212, 210, 211, 213, 223, 220, 243,\n",
       "        202,   0],\n",
       "       [  0,   0,   0,   0,   0,   0,   0,   0,   0,   1,   3,   0,  12,\n",
       "        219, 220, 212, 218, 192, 169, 227, 208, 218, 224, 212, 226, 197,\n",
       "        209,  52],\n",
       "       [  0,   0,   0,   0,   0,   0,   0,   0,   0,   0,   6,   0,  99,\n",
       "        244, 222, 220, 218, 203, 198, 221, 215, 213, 222, 220, 245, 119,\n",
       "        167,  56],\n",
       "       [  0,   0,   0,   0,   0,   0,   0,   0,   0,   4,   0,   0,  55,\n",
       "        236, 228, 230, 228, 240, 232, 213, 218, 223, 234, 217, 217, 209,\n",
       "         92,   0],\n",
       "       [  0,   0,   1,   4,   6,   7,   2,   0,   0,   0,   0,   0, 237,\n",
       "        226, 217, 223, 222, 219, 222, 221, 216, 223, 229, 215, 218, 255,\n",
       "         77,   0],\n",
       "       [  0,   3,   0,   0,   0,   0,   0,   0,   0,  62, 145, 204, 228,\n",
       "        207, 213, 221, 218, 208, 211, 218, 224, 223, 219, 215, 224, 244,\n",
       "        159,   0],\n",
       "       [  0,   0,   0,   0,  18,  44,  82, 107, 189, 228, 220, 222, 217,\n",
       "        226, 200, 205, 211, 230, 224, 234, 176, 188, 250, 248, 233, 238,\n",
       "        215,   0],\n",
       "       [  0,  57, 187, 208, 224, 221, 224, 208, 204, 214, 208, 209, 200,\n",
       "        159, 245, 193, 206, 223, 255, 255, 221, 234, 221, 211, 220, 232,\n",
       "        246,   0],\n",
       "       [  3, 202, 228, 224, 221, 211, 211, 214, 205, 205, 205, 220, 240,\n",
       "         80, 150, 255, 229, 221, 188, 154, 191, 210, 204, 209, 222, 228,\n",
       "        225,   0],\n",
       "       [ 98, 233, 198, 210, 222, 229, 229, 234, 249, 220, 194, 215, 217,\n",
       "        241,  65,  73, 106, 117, 168, 219, 221, 215, 217, 223, 223, 224,\n",
       "        229,  29],\n",
       "       [ 75, 204, 212, 204, 193, 205, 211, 225, 216, 185, 197, 206, 198,\n",
       "        213, 240, 195, 227, 245, 239, 223, 218, 212, 209, 222, 220, 221,\n",
       "        230,  67],\n",
       "       [ 48, 203, 183, 194, 213, 197, 185, 190, 194, 192, 202, 214, 219,\n",
       "        221, 220, 236, 225, 216, 199, 206, 186, 181, 177, 172, 181, 205,\n",
       "        206, 115],\n",
       "       [  0, 122, 219, 193, 179, 171, 183, 196, 204, 210, 213, 207, 211,\n",
       "        210, 200, 196, 194, 191, 195, 191, 198, 192, 176, 156, 167, 177,\n",
       "        210,  92],\n",
       "       [  0,   0,  74, 189, 212, 191, 175, 172, 175, 181, 185, 188, 189,\n",
       "        188, 193, 198, 204, 209, 210, 210, 211, 188, 188, 194, 192, 216,\n",
       "        170,   0],\n",
       "       [  2,   0,   0,   0,  66, 200, 222, 237, 239, 242, 246, 243, 244,\n",
       "        221, 220, 193, 191, 179, 182, 182, 181, 176, 166, 168,  99,  58,\n",
       "          0,   0],\n",
       "       [  0,   0,   0,   0,   0,   0,   0,  40,  61,  44,  72,  41,  35,\n",
       "          0,   0,   0,   0,   0,   0,   0,   0,   0,   0,   0,   0,   0,\n",
       "          0,   0],\n",
       "       [  0,   0,   0,   0,   0,   0,   0,   0,   0,   0,   0,   0,   0,\n",
       "          0,   0,   0,   0,   0,   0,   0,   0,   0,   0,   0,   0,   0,\n",
       "          0,   0],\n",
       "       [  0,   0,   0,   0,   0,   0,   0,   0,   0,   0,   0,   0,   0,\n",
       "          0,   0,   0,   0,   0,   0,   0,   0,   0,   0,   0,   0,   0,\n",
       "          0,   0]], dtype=uint8)"
      ]
     },
     "execution_count": 29,
     "metadata": {},
     "output_type": "execute_result"
    }
   ],
   "source": [
    "X_train_full[0]"
   ]
  },
  {
   "cell_type": "code",
   "execution_count": 30,
   "metadata": {
    "colab": {},
    "colab_type": "code",
    "id": "TNzVzIvAYoJb"
   },
   "outputs": [],
   "source": [
    "X_train_full = X_train_full / 255. # <-- ¿qué divisor?\n",
    "X_test = X_test / 255.# <-- ¿qué divisor?"
   ]
  },
  {
   "cell_type": "code",
   "execution_count": 34,
   "metadata": {
    "colab": {},
    "colab_type": "code",
    "id": "YTwMkIYDYoJd"
   },
   "outputs": [
    {
     "data": {
      "text/plain": [
       "dtype('float64')"
      ]
     },
     "execution_count": 34,
     "metadata": {},
     "output_type": "execute_result"
    }
   ],
   "source": [
    "X_train_full.dtype"
   ]
  },
  {
   "cell_type": "code",
   "execution_count": 35,
   "metadata": {
    "colab": {},
    "colab_type": "code",
    "id": "iPWOKrauYoJf"
   },
   "outputs": [
    {
     "data": {
      "text/plain": [
       "array([[0.        , 0.        , 0.        , 0.        , 0.        ,\n",
       "        0.        , 0.        , 0.        , 0.        , 0.        ,\n",
       "        0.        , 0.        , 0.        , 0.        , 0.        ,\n",
       "        0.        , 0.        , 0.        , 0.        , 0.        ,\n",
       "        0.        , 0.        , 0.        , 0.        , 0.        ,\n",
       "        0.        , 0.        , 0.        ],\n",
       "       [0.        , 0.        , 0.        , 0.        , 0.        ,\n",
       "        0.        , 0.        , 0.        , 0.        , 0.        ,\n",
       "        0.        , 0.        , 0.        , 0.        , 0.        ,\n",
       "        0.        , 0.        , 0.        , 0.        , 0.        ,\n",
       "        0.        , 0.        , 0.        , 0.        , 0.        ,\n",
       "        0.        , 0.        , 0.        ],\n",
       "       [0.        , 0.        , 0.        , 0.        , 0.        ,\n",
       "        0.        , 0.        , 0.        , 0.        , 0.        ,\n",
       "        0.        , 0.        , 0.        , 0.        , 0.        ,\n",
       "        0.        , 0.        , 0.        , 0.        , 0.        ,\n",
       "        0.        , 0.        , 0.        , 0.        , 0.        ,\n",
       "        0.        , 0.        , 0.        ],\n",
       "       [0.        , 0.        , 0.        , 0.        , 0.        ,\n",
       "        0.        , 0.        , 0.        , 0.        , 0.        ,\n",
       "        0.        , 0.        , 0.00392157, 0.        , 0.        ,\n",
       "        0.05098039, 0.28627451, 0.        , 0.        , 0.00392157,\n",
       "        0.01568627, 0.        , 0.        , 0.        , 0.        ,\n",
       "        0.00392157, 0.00392157, 0.        ],\n",
       "       [0.        , 0.        , 0.        , 0.        , 0.        ,\n",
       "        0.        , 0.        , 0.        , 0.        , 0.        ,\n",
       "        0.        , 0.        , 0.01176471, 0.        , 0.14117647,\n",
       "        0.53333333, 0.49803922, 0.24313725, 0.21176471, 0.        ,\n",
       "        0.        , 0.        , 0.00392157, 0.01176471, 0.01568627,\n",
       "        0.        , 0.        , 0.01176471],\n",
       "       [0.        , 0.        , 0.        , 0.        , 0.        ,\n",
       "        0.        , 0.        , 0.        , 0.        , 0.        ,\n",
       "        0.        , 0.        , 0.02352941, 0.        , 0.4       ,\n",
       "        0.8       , 0.69019608, 0.5254902 , 0.56470588, 0.48235294,\n",
       "        0.09019608, 0.        , 0.        , 0.        , 0.        ,\n",
       "        0.04705882, 0.03921569, 0.        ],\n",
       "       [0.        , 0.        , 0.        , 0.        , 0.        ,\n",
       "        0.        , 0.        , 0.        , 0.        , 0.        ,\n",
       "        0.        , 0.        , 0.        , 0.        , 0.60784314,\n",
       "        0.9254902 , 0.81176471, 0.69803922, 0.41960784, 0.61176471,\n",
       "        0.63137255, 0.42745098, 0.25098039, 0.09019608, 0.30196078,\n",
       "        0.50980392, 0.28235294, 0.05882353],\n",
       "       [0.        , 0.        , 0.        , 0.        , 0.        ,\n",
       "        0.        , 0.        , 0.        , 0.        , 0.        ,\n",
       "        0.        , 0.00392157, 0.        , 0.27058824, 0.81176471,\n",
       "        0.8745098 , 0.85490196, 0.84705882, 0.84705882, 0.63921569,\n",
       "        0.49803922, 0.4745098 , 0.47843137, 0.57254902, 0.55294118,\n",
       "        0.34509804, 0.6745098 , 0.25882353],\n",
       "       [0.        , 0.        , 0.        , 0.        , 0.        ,\n",
       "        0.        , 0.        , 0.        , 0.        , 0.00392157,\n",
       "        0.00392157, 0.00392157, 0.        , 0.78431373, 0.90980392,\n",
       "        0.90980392, 0.91372549, 0.89803922, 0.8745098 , 0.8745098 ,\n",
       "        0.84313725, 0.83529412, 0.64313725, 0.49803922, 0.48235294,\n",
       "        0.76862745, 0.89803922, 0.        ],\n",
       "       [0.        , 0.        , 0.        , 0.        , 0.        ,\n",
       "        0.        , 0.        , 0.        , 0.        , 0.        ,\n",
       "        0.        , 0.        , 0.        , 0.71764706, 0.88235294,\n",
       "        0.84705882, 0.8745098 , 0.89411765, 0.92156863, 0.89019608,\n",
       "        0.87843137, 0.87058824, 0.87843137, 0.86666667, 0.8745098 ,\n",
       "        0.96078431, 0.67843137, 0.        ],\n",
       "       [0.        , 0.        , 0.        , 0.        , 0.        ,\n",
       "        0.        , 0.        , 0.        , 0.        , 0.        ,\n",
       "        0.        , 0.        , 0.        , 0.75686275, 0.89411765,\n",
       "        0.85490196, 0.83529412, 0.77647059, 0.70588235, 0.83137255,\n",
       "        0.82352941, 0.82745098, 0.83529412, 0.8745098 , 0.8627451 ,\n",
       "        0.95294118, 0.79215686, 0.        ],\n",
       "       [0.        , 0.        , 0.        , 0.        , 0.        ,\n",
       "        0.        , 0.        , 0.        , 0.        , 0.00392157,\n",
       "        0.01176471, 0.        , 0.04705882, 0.85882353, 0.8627451 ,\n",
       "        0.83137255, 0.85490196, 0.75294118, 0.6627451 , 0.89019608,\n",
       "        0.81568627, 0.85490196, 0.87843137, 0.83137255, 0.88627451,\n",
       "        0.77254902, 0.81960784, 0.20392157],\n",
       "       [0.        , 0.        , 0.        , 0.        , 0.        ,\n",
       "        0.        , 0.        , 0.        , 0.        , 0.        ,\n",
       "        0.02352941, 0.        , 0.38823529, 0.95686275, 0.87058824,\n",
       "        0.8627451 , 0.85490196, 0.79607843, 0.77647059, 0.86666667,\n",
       "        0.84313725, 0.83529412, 0.87058824, 0.8627451 , 0.96078431,\n",
       "        0.46666667, 0.65490196, 0.21960784],\n",
       "       [0.        , 0.        , 0.        , 0.        , 0.        ,\n",
       "        0.        , 0.        , 0.        , 0.        , 0.01568627,\n",
       "        0.        , 0.        , 0.21568627, 0.9254902 , 0.89411765,\n",
       "        0.90196078, 0.89411765, 0.94117647, 0.90980392, 0.83529412,\n",
       "        0.85490196, 0.8745098 , 0.91764706, 0.85098039, 0.85098039,\n",
       "        0.81960784, 0.36078431, 0.        ],\n",
       "       [0.        , 0.        , 0.00392157, 0.01568627, 0.02352941,\n",
       "        0.02745098, 0.00784314, 0.        , 0.        , 0.        ,\n",
       "        0.        , 0.        , 0.92941176, 0.88627451, 0.85098039,\n",
       "        0.8745098 , 0.87058824, 0.85882353, 0.87058824, 0.86666667,\n",
       "        0.84705882, 0.8745098 , 0.89803922, 0.84313725, 0.85490196,\n",
       "        1.        , 0.30196078, 0.        ],\n",
       "       [0.        , 0.01176471, 0.        , 0.        , 0.        ,\n",
       "        0.        , 0.        , 0.        , 0.        , 0.24313725,\n",
       "        0.56862745, 0.8       , 0.89411765, 0.81176471, 0.83529412,\n",
       "        0.86666667, 0.85490196, 0.81568627, 0.82745098, 0.85490196,\n",
       "        0.87843137, 0.8745098 , 0.85882353, 0.84313725, 0.87843137,\n",
       "        0.95686275, 0.62352941, 0.        ],\n",
       "       [0.        , 0.        , 0.        , 0.        , 0.07058824,\n",
       "        0.17254902, 0.32156863, 0.41960784, 0.74117647, 0.89411765,\n",
       "        0.8627451 , 0.87058824, 0.85098039, 0.88627451, 0.78431373,\n",
       "        0.80392157, 0.82745098, 0.90196078, 0.87843137, 0.91764706,\n",
       "        0.69019608, 0.7372549 , 0.98039216, 0.97254902, 0.91372549,\n",
       "        0.93333333, 0.84313725, 0.        ],\n",
       "       [0.        , 0.22352941, 0.73333333, 0.81568627, 0.87843137,\n",
       "        0.86666667, 0.87843137, 0.81568627, 0.8       , 0.83921569,\n",
       "        0.81568627, 0.81960784, 0.78431373, 0.62352941, 0.96078431,\n",
       "        0.75686275, 0.80784314, 0.8745098 , 1.        , 1.        ,\n",
       "        0.86666667, 0.91764706, 0.86666667, 0.82745098, 0.8627451 ,\n",
       "        0.90980392, 0.96470588, 0.        ],\n",
       "       [0.01176471, 0.79215686, 0.89411765, 0.87843137, 0.86666667,\n",
       "        0.82745098, 0.82745098, 0.83921569, 0.80392157, 0.80392157,\n",
       "        0.80392157, 0.8627451 , 0.94117647, 0.31372549, 0.58823529,\n",
       "        1.        , 0.89803922, 0.86666667, 0.7372549 , 0.60392157,\n",
       "        0.74901961, 0.82352941, 0.8       , 0.81960784, 0.87058824,\n",
       "        0.89411765, 0.88235294, 0.        ],\n",
       "       [0.38431373, 0.91372549, 0.77647059, 0.82352941, 0.87058824,\n",
       "        0.89803922, 0.89803922, 0.91764706, 0.97647059, 0.8627451 ,\n",
       "        0.76078431, 0.84313725, 0.85098039, 0.94509804, 0.25490196,\n",
       "        0.28627451, 0.41568627, 0.45882353, 0.65882353, 0.85882353,\n",
       "        0.86666667, 0.84313725, 0.85098039, 0.8745098 , 0.8745098 ,\n",
       "        0.87843137, 0.89803922, 0.11372549],\n",
       "       [0.29411765, 0.8       , 0.83137255, 0.8       , 0.75686275,\n",
       "        0.80392157, 0.82745098, 0.88235294, 0.84705882, 0.7254902 ,\n",
       "        0.77254902, 0.80784314, 0.77647059, 0.83529412, 0.94117647,\n",
       "        0.76470588, 0.89019608, 0.96078431, 0.9372549 , 0.8745098 ,\n",
       "        0.85490196, 0.83137255, 0.81960784, 0.87058824, 0.8627451 ,\n",
       "        0.86666667, 0.90196078, 0.2627451 ],\n",
       "       [0.18823529, 0.79607843, 0.71764706, 0.76078431, 0.83529412,\n",
       "        0.77254902, 0.7254902 , 0.74509804, 0.76078431, 0.75294118,\n",
       "        0.79215686, 0.83921569, 0.85882353, 0.86666667, 0.8627451 ,\n",
       "        0.9254902 , 0.88235294, 0.84705882, 0.78039216, 0.80784314,\n",
       "        0.72941176, 0.70980392, 0.69411765, 0.6745098 , 0.70980392,\n",
       "        0.80392157, 0.80784314, 0.45098039],\n",
       "       [0.        , 0.47843137, 0.85882353, 0.75686275, 0.70196078,\n",
       "        0.67058824, 0.71764706, 0.76862745, 0.8       , 0.82352941,\n",
       "        0.83529412, 0.81176471, 0.82745098, 0.82352941, 0.78431373,\n",
       "        0.76862745, 0.76078431, 0.74901961, 0.76470588, 0.74901961,\n",
       "        0.77647059, 0.75294118, 0.69019608, 0.61176471, 0.65490196,\n",
       "        0.69411765, 0.82352941, 0.36078431],\n",
       "       [0.        , 0.        , 0.29019608, 0.74117647, 0.83137255,\n",
       "        0.74901961, 0.68627451, 0.6745098 , 0.68627451, 0.70980392,\n",
       "        0.7254902 , 0.7372549 , 0.74117647, 0.7372549 , 0.75686275,\n",
       "        0.77647059, 0.8       , 0.81960784, 0.82352941, 0.82352941,\n",
       "        0.82745098, 0.7372549 , 0.7372549 , 0.76078431, 0.75294118,\n",
       "        0.84705882, 0.66666667, 0.        ],\n",
       "       [0.00784314, 0.        , 0.        , 0.        , 0.25882353,\n",
       "        0.78431373, 0.87058824, 0.92941176, 0.9372549 , 0.94901961,\n",
       "        0.96470588, 0.95294118, 0.95686275, 0.86666667, 0.8627451 ,\n",
       "        0.75686275, 0.74901961, 0.70196078, 0.71372549, 0.71372549,\n",
       "        0.70980392, 0.69019608, 0.65098039, 0.65882353, 0.38823529,\n",
       "        0.22745098, 0.        , 0.        ],\n",
       "       [0.        , 0.        , 0.        , 0.        , 0.        ,\n",
       "        0.        , 0.        , 0.15686275, 0.23921569, 0.17254902,\n",
       "        0.28235294, 0.16078431, 0.1372549 , 0.        , 0.        ,\n",
       "        0.        , 0.        , 0.        , 0.        , 0.        ,\n",
       "        0.        , 0.        , 0.        , 0.        , 0.        ,\n",
       "        0.        , 0.        , 0.        ],\n",
       "       [0.        , 0.        , 0.        , 0.        , 0.        ,\n",
       "        0.        , 0.        , 0.        , 0.        , 0.        ,\n",
       "        0.        , 0.        , 0.        , 0.        , 0.        ,\n",
       "        0.        , 0.        , 0.        , 0.        , 0.        ,\n",
       "        0.        , 0.        , 0.        , 0.        , 0.        ,\n",
       "        0.        , 0.        , 0.        ],\n",
       "       [0.        , 0.        , 0.        , 0.        , 0.        ,\n",
       "        0.        , 0.        , 0.        , 0.        , 0.        ,\n",
       "        0.        , 0.        , 0.        , 0.        , 0.        ,\n",
       "        0.        , 0.        , 0.        , 0.        , 0.        ,\n",
       "        0.        , 0.        , 0.        , 0.        , 0.        ,\n",
       "        0.        , 0.        , 0.        ]])"
      ]
     },
     "execution_count": 35,
     "metadata": {},
     "output_type": "execute_result"
    }
   ],
   "source": [
    "X_train_full[0]"
   ]
  },
  {
   "cell_type": "markdown",
   "metadata": {
    "colab_type": "text",
    "id": "0x8PEwtQYoJk"
   },
   "source": [
    "## Crear conjunto de validación"
   ]
  },
  {
   "cell_type": "code",
   "execution_count": 37,
   "metadata": {
    "colab": {},
    "colab_type": "code",
    "id": "1Shc34gOYoJk"
   },
   "outputs": [],
   "source": [
    "# Separar el conjunto de entrenamiento completo en validación y entrenamiento\n",
    "X_train = X_train_full[:55000]\n",
    "y_train = y_train_full[:55000]\n",
    "\n",
    "X_validation = X_train_full[55000:]\n",
    "y_validation = y_train_full[55000:]"
   ]
  },
  {
   "cell_type": "code",
   "execution_count": 38,
   "metadata": {
    "colab": {},
    "colab_type": "code",
    "id": "L_082LaGYoJm"
   },
   "outputs": [
    {
     "data": {
      "text/plain": [
       "(5000, 28, 28)"
      ]
     },
     "execution_count": 38,
     "metadata": {},
     "output_type": "execute_result"
    }
   ],
   "source": [
    "X_validation.shape"
   ]
  },
  {
   "cell_type": "code",
   "execution_count": 39,
   "metadata": {
    "colab": {},
    "colab_type": "code",
    "id": "QIiT1JO_YoJo"
   },
   "outputs": [
    {
     "data": {
      "text/plain": [
       "(55000, 28, 28)"
      ]
     },
     "execution_count": 39,
     "metadata": {},
     "output_type": "execute_result"
    }
   ],
   "source": [
    "X_train.shape"
   ]
  },
  {
   "cell_type": "markdown",
   "metadata": {
    "colab_type": "text",
    "id": "zQ8gdHTlYoJq"
   },
   "source": [
    "# Modelo"
   ]
  },
  {
   "cell_type": "markdown",
   "metadata": {
    "colab_type": "text",
    "id": "zN6JoJCeYoJq"
   },
   "source": [
    "#### Crear el modelo y añadir capas"
   ]
  },
  {
   "cell_type": "code",
   "execution_count": 40,
   "metadata": {
    "colab": {},
    "colab_type": "code",
    "id": "DL6L-HlQYoJr"
   },
   "outputs": [],
   "source": [
    "model = tf.keras.models.Sequential([# Sequential implementacion mas sencilla en keras\n",
    "   tf.keras.layers.Flatten(input_shape=[28,28], name='flatten_layer'), #<--¿input_shape? # Output shape 784\n",
    "   tf.keras.layers.Dense(units=64, activation=\"sigmoid\", name='hidden1'),      # 64 es deacuerdo al problema\n",
    "   #tf.keras.layers.Dense(units=10, activation=\"softmax\", name='output_layer'),   \n",
    "   tf.keras.layers.Dense(units=10, name='output_layer') # <-- ¿units?                   \n",
    "])"
   ]
  },
  {
   "cell_type": "code",
   "execution_count": 41,
   "metadata": {
    "colab": {},
    "colab_type": "code",
    "id": "1Y2dhRoZYoJs"
   },
   "outputs": [
    {
     "name": "stdout",
     "output_type": "stream",
     "text": [
      "Model: \"sequential\"\n",
      "_________________________________________________________________\n",
      "Layer (type)                 Output Shape              Param #   \n",
      "=================================================================\n",
      "flatten_layer (Flatten)      (None, 784)               0         \n",
      "_________________________________________________________________\n",
      "hidden1 (Dense)              (None, 64)                50240     \n",
      "_________________________________________________________________\n",
      "output_layer (Dense)         (None, 10)                650       \n",
      "=================================================================\n",
      "Total params: 50,890\n",
      "Trainable params: 50,890\n",
      "Non-trainable params: 0\n",
      "_________________________________________________________________\n"
     ]
    }
   ],
   "source": [
    "model.summary()"
   ]
  },
  {
   "cell_type": "code",
   "execution_count": 42,
   "metadata": {
    "colab": {},
    "colab_type": "code",
    "id": "K7y35uASYoJu"
   },
   "outputs": [
    {
     "data": {
      "image/png": "[encoded data removed]",
      "text/plain": [
       "<IPython.core.display.Image object>"
      ]
     },
     "execution_count": 42,
     "metadata": {},
     "output_type": "execute_result"
    }
   ],
   "source": [
    "tf.keras.utils.plot_model(model)"
   ]
  },
  {
   "cell_type": "code",
   "execution_count": 43,
   "metadata": {
    "colab": {},
    "colab_type": "code",
    "id": "aLrHLymMYoJy"
   },
   "outputs": [
    {
     "data": {
      "text/plain": [
       "[<tensorflow.python.keras.layers.core.Flatten at 0x7fb51ccd0610>,\n",
       " <tensorflow.python.keras.layers.core.Dense at 0x7fb51ccd0910>,\n",
       " <tensorflow.python.keras.layers.core.Dense at 0x7fb51ccd6950>]"
      ]
     },
     "execution_count": 43,
     "metadata": {},
     "output_type": "execute_result"
    }
   ],
   "source": [
    "model.layers"
   ]
  },
  {
   "cell_type": "markdown",
   "metadata": {
    "colab_type": "text",
    "id": "NSNRf19YYoJz"
   },
   "source": [
    "#### Analizando W y b ¿Cómo se inicializan los W y b?"
   ]
  },
  {
   "cell_type": "code",
   "execution_count": 44,
   "metadata": {
    "colab": {},
    "colab_type": "code",
    "id": "PqXENYurYoJ0"
   },
   "outputs": [],
   "source": [
    "weights, biases = model.get_layer('hidden1').get_weights()\n",
    "# weights, biases = model.layers[1].get_weights()"
   ]
  },
  {
   "cell_type": "code",
   "execution_count": 45,
   "metadata": {
    "colab": {},
    "colab_type": "code",
    "id": "MDoEJEn-YoJ2"
   },
   "outputs": [
    {
     "data": {
      "text/plain": [
       "(784, 64)"
      ]
     },
     "execution_count": 45,
     "metadata": {},
     "output_type": "execute_result"
    }
   ],
   "source": [
    "weights.shape"
   ]
  },
  {
   "cell_type": "code",
   "execution_count": 46,
   "metadata": {
    "colab": {},
    "colab_type": "code",
    "id": "zulC5_mYYoJ6"
   },
   "outputs": [
    {
     "data": {
      "text/plain": [
       "array([[-0.01628179, -0.03521243,  0.00872126, ...,  0.02172022,\n",
       "         0.06109066,  0.08248674],\n",
       "       [ 0.02455946, -0.0048846 , -0.05884899, ...,  0.00874093,\n",
       "         0.01216641,  0.0635452 ],\n",
       "       [-0.00050358,  0.0540847 , -0.02005479, ...,  0.02984941,\n",
       "        -0.01107012,  0.01632198],\n",
       "       ...,\n",
       "       [ 0.01516556, -0.06598948,  0.02973594, ..., -0.03012307,\n",
       "         0.00840307, -0.06388214],\n",
       "       [-0.06451878,  0.05152274, -0.03971441, ..., -0.00042358,\n",
       "         0.03995451, -0.00609497],\n",
       "       [-0.05447469, -0.07312553, -0.08237363, ...,  0.01240314,\n",
       "         0.02466984,  0.02548698]], dtype=float32)"
      ]
     },
     "execution_count": 46,
     "metadata": {},
     "output_type": "execute_result"
    }
   ],
   "source": [
    "weights"
   ]
  },
  {
   "cell_type": "code",
   "execution_count": 47,
   "metadata": {
    "colab": {},
    "colab_type": "code",
    "id": "tyUPk1s7YoJ8"
   },
   "outputs": [
    {
     "data": {
      "text/plain": [
       "(64,)"
      ]
     },
     "execution_count": 47,
     "metadata": {},
     "output_type": "execute_result"
    }
   ],
   "source": [
    "biases.shape"
   ]
  },
  {
   "cell_type": "code",
   "execution_count": 48,
   "metadata": {
    "colab": {},
    "colab_type": "code",
    "id": "Ge4esWPvYoJ_"
   },
   "outputs": [
    {
     "data": {
      "text/plain": [
       "array([0., 0., 0., 0., 0., 0., 0., 0., 0., 0., 0., 0., 0., 0., 0., 0., 0.,\n",
       "       0., 0., 0., 0., 0., 0., 0., 0., 0., 0., 0., 0., 0., 0., 0., 0., 0.,\n",
       "       0., 0., 0., 0., 0., 0., 0., 0., 0., 0., 0., 0., 0., 0., 0., 0., 0.,\n",
       "       0., 0., 0., 0., 0., 0., 0., 0., 0., 0., 0., 0., 0.], dtype=float32)"
      ]
     },
     "execution_count": 48,
     "metadata": {},
     "output_type": "execute_result"
    }
   ],
   "source": [
    "biases"
   ]
  },
  {
   "cell_type": "code",
   "execution_count": 49,
   "metadata": {
    "colab": {},
    "colab_type": "code",
    "id": "hN55ftR-1-G5"
   },
   "outputs": [
    {
     "name": "stdout",
     "output_type": "stream",
     "text": [
      "WARNING:tensorflow:Layer flatten_layer is casting an input tensor from dtype float64 to the layer's dtype of float32, which is new behavior in TensorFlow 2.  The layer has dtype float32 because it's dtype defaults to floatx.\n",
      "\n",
      "If you intended to run this layer in float32, you can safely ignore this warning. If in doubt, this warning is likely only an issue if you are porting a TensorFlow 1.X model to TensorFlow 2.\n",
      "\n",
      "To change all layers to have dtype float64 by default, call `tf.keras.backend.set_floatx('float64')`. To change just this layer, pass dtype='float64' to the layer constructor. If you are the author of this layer, you can disable autocasting by passing autocast=False to the base Layer constructor.\n",
      "\n",
      "[[-0.86635816 -1.311097    0.9962032  -0.27280664 -0.09090866 -0.94314325\n",
      "   1.0193467  -1.3076755  -1.1417637   0.63270795]]\n"
     ]
    }
   ],
   "source": [
    "batch_data = X_train[:1]\n",
    "pred = model(batch_data).numpy()\n",
    "print(pred)"
   ]
  },
  {
   "cell_type": "code",
   "execution_count": 50,
   "metadata": {
    "colab": {},
    "colab_type": "code",
    "id": "UvNcG8Un2lGA"
   },
   "outputs": [
    {
     "name": "stdout",
     "output_type": "stream",
     "text": [
      "[[0.03927695 0.02517619 0.25295186 0.07110725 0.08529257 0.03637395\n",
      "  0.25887433 0.02526249 0.02982158 0.17586276]]\n"
     ]
    }
   ],
   "source": [
    "print(tf.nn.softmax(pred).numpy())"
   ]
  },
  {
   "cell_type": "markdown",
   "metadata": {
    "colab_type": "text",
    "id": "sNF_JTLNYoKB"
   },
   "source": [
    "# Configurar el proceso de aprendizaje (Compilar)\n",
    "Se especifica:\n",
    "- Loss function\n",
    "- Optimizer\n",
    "- Metrics (Opcional, en caso de querer observar métricas extra durante el entrenamiento o evaluación)"
   ]
  },
  {
   "cell_type": "code",
   "execution_count": 51,
   "metadata": {
    "colab": {},
    "colab_type": "code",
    "id": "0Ahn5GaYYoKB"
   },
   "outputs": [],
   "source": [
    "loss_fn = tf.keras.losses.SparseCategoricalCrossentropy(from_logits=True)#Sparse cuando etiquetas son digitos, cuando tenemos matrices con 1 para identificar la clase, quitamos el Sparse\n",
    "model.compile(loss=loss_fn, #1\n",
    "              optimizer='adam', #2\n",
    "              metrics=['accuracy']) #3 (al ser clasificacion nos sirve saber cuantas instancias esta clasificando bien 'accuracy')"
   ]
  },
  {
   "cell_type": "markdown",
   "metadata": {
    "colab_type": "text",
    "id": "3r8k5ShNYoKD"
   },
   "source": [
    "# Entrenamiento y evaluación en datos de validación\n",
    "Los datos de validación son opcionales, pero si los pasamos como parámetros en el método `fit()`, Keras medirá el loss y las demás métricas que le indiquemos sobre el conjunto de validación al final de cada época.\n",
    "\n",
    "Se pueden pasar como parámetros los datos de validación con `validation_data`. Si se usa `validation_split`, la fracción de datos que indiquemos será usada como validación (se tomarán los datos del final del conjunto y no se usarán en el entrenamiento). `validation_data` sobrescribe `validation_split`.\n",
    "\n",
    "- Si el performance es mucho mejor en el conjunto de entrenamiento que en el de validación hay -> "
   ]
  },
  {
   "cell_type": "code",
   "execution_count": 52,
   "metadata": {
    "colab": {},
    "colab_type": "code",
    "id": "pGNH1luvYoKE",
    "scrolled": true
   },
   "outputs": [
    {
     "name": "stdout",
     "output_type": "stream",
     "text": [
      "Train on 55000 samples, validate on 5000 samples\n",
      "Epoch 1/30\n",
      "55000/55000 [==============================] - 4s 69us/sample - loss: 0.6186 - accuracy: 0.7991 - val_loss: 0.4362 - val_accuracy: 0.8442\n",
      "Epoch 2/30\n",
      "55000/55000 [==============================] - 3s 56us/sample - loss: 0.4107 - accuracy: 0.8539 - val_loss: 0.3891 - val_accuracy: 0.8532\n",
      "Epoch 3/30\n",
      "55000/55000 [==============================] - 3s 56us/sample - loss: 0.3720 - accuracy: 0.8671 - val_loss: 0.3595 - val_accuracy: 0.8688\n",
      "Epoch 4/30\n",
      "55000/55000 [==============================] - 3s 56us/sample - loss: 0.3480 - accuracy: 0.8752 - val_loss: 0.3613 - val_accuracy: 0.8630\n",
      "Epoch 5/30\n",
      "55000/55000 [==============================] - 3s 56us/sample - loss: 0.3323 - accuracy: 0.8796 - val_loss: 0.3437 - val_accuracy: 0.8732\n",
      "Epoch 6/30\n",
      "55000/55000 [==============================] - 3s 56us/sample - loss: 0.3157 - accuracy: 0.8857 - val_loss: 0.3391 - val_accuracy: 0.8698\n",
      "Epoch 7/30\n",
      "55000/55000 [==============================] - 3s 56us/sample - loss: 0.3051 - accuracy: 0.8893 - val_loss: 0.3434 - val_accuracy: 0.8684\n",
      "Epoch 8/30\n",
      "55000/55000 [==============================] - 3s 54us/sample - loss: 0.2958 - accuracy: 0.8932 - val_loss: 0.3342 - val_accuracy: 0.8750\n",
      "Epoch 9/30\n",
      "55000/55000 [==============================] - 3s 54us/sample - loss: 0.2860 - accuracy: 0.8951 - val_loss: 0.3300 - val_accuracy: 0.8802\n",
      "Epoch 10/30\n",
      "55000/55000 [==============================] - 3s 54us/sample - loss: 0.2763 - accuracy: 0.8986 - val_loss: 0.3144 - val_accuracy: 0.8792\n",
      "Epoch 11/30\n",
      "55000/55000 [==============================] - 3s 54us/sample - loss: 0.2699 - accuracy: 0.9020 - val_loss: 0.3188 - val_accuracy: 0.8794\n",
      "Epoch 12/30\n",
      "55000/55000 [==============================] - 3s 54us/sample - loss: 0.2634 - accuracy: 0.9038 - val_loss: 0.3223 - val_accuracy: 0.8810\n",
      "Epoch 13/30\n",
      "55000/55000 [==============================] - 3s 54us/sample - loss: 0.2572 - accuracy: 0.9065 - val_loss: 0.3156 - val_accuracy: 0.8840\n",
      "Epoch 14/30\n",
      "55000/55000 [==============================] - 3s 54us/sample - loss: 0.2498 - accuracy: 0.9095 - val_loss: 0.3256 - val_accuracy: 0.8816\n",
      "Epoch 15/30\n",
      "55000/55000 [==============================] - 3s 52us/sample - loss: 0.2447 - accuracy: 0.9109 - val_loss: 0.3228 - val_accuracy: 0.8784\n",
      "Epoch 16/30\n",
      "55000/55000 [==============================] - 3s 52us/sample - loss: 0.2378 - accuracy: 0.9131 - val_loss: 0.3187 - val_accuracy: 0.8862\n",
      "Epoch 17/30\n",
      "55000/55000 [==============================] - 3s 54us/sample - loss: 0.2339 - accuracy: 0.9148 - val_loss: 0.3150 - val_accuracy: 0.8814\n",
      "Epoch 18/30\n",
      "55000/55000 [==============================] - 3s 53us/sample - loss: 0.2293 - accuracy: 0.9157 - val_loss: 0.3168 - val_accuracy: 0.8858\n",
      "Epoch 19/30\n",
      "55000/55000 [==============================] - 3s 53us/sample - loss: 0.2230 - accuracy: 0.9180 - val_loss: 0.3149 - val_accuracy: 0.8858\n",
      "Epoch 20/30\n",
      "55000/55000 [==============================] - 3s 53us/sample - loss: 0.2186 - accuracy: 0.9203 - val_loss: 0.3174 - val_accuracy: 0.8854\n",
      "Epoch 21/30\n",
      "55000/55000 [==============================] - 3s 54us/sample - loss: 0.2153 - accuracy: 0.9213 - val_loss: 0.3180 - val_accuracy: 0.8856\n",
      "Epoch 22/30\n",
      "55000/55000 [==============================] - 3s 53us/sample - loss: 0.2107 - accuracy: 0.9227 - val_loss: 0.3164 - val_accuracy: 0.8830\n",
      "Epoch 23/30\n",
      "55000/55000 [==============================] - 3s 54us/sample - loss: 0.2066 - accuracy: 0.9246 - val_loss: 0.3301 - val_accuracy: 0.8862\n",
      "Epoch 24/30\n",
      "55000/55000 [==============================] - 3s 54us/sample - loss: 0.2039 - accuracy: 0.9264 - val_loss: 0.3206 - val_accuracy: 0.8830\n",
      "Epoch 25/30\n",
      "55000/55000 [==============================] - 3s 53us/sample - loss: 0.1985 - accuracy: 0.9285 - val_loss: 0.3219 - val_accuracy: 0.8882\n",
      "Epoch 26/30\n",
      "55000/55000 [==============================] - 3s 54us/sample - loss: 0.1966 - accuracy: 0.9283 - val_loss: 0.3271 - val_accuracy: 0.8852\n",
      "Epoch 27/30\n",
      "55000/55000 [==============================] - 3s 54us/sample - loss: 0.1937 - accuracy: 0.9302 - val_loss: 0.3309 - val_accuracy: 0.8850\n",
      "Epoch 28/30\n",
      "55000/55000 [==============================] - 3s 53us/sample - loss: 0.1900 - accuracy: 0.9306 - val_loss: 0.3244 - val_accuracy: 0.8846\n",
      "Epoch 29/30\n",
      "55000/55000 [==============================] - 3s 53us/sample - loss: 0.1861 - accuracy: 0.9326 - val_loss: 0.3319 - val_accuracy: 0.8814\n",
      "Epoch 30/30\n",
      "55000/55000 [==============================] - 3s 52us/sample - loss: 0.1837 - accuracy: 0.9342 - val_loss: 0.3298 - val_accuracy: 0.8860\n"
     ]
    }
   ],
   "source": [
    "# Si quieres usar el conjunto de validación hecho por ti\n",
    "history = model.fit(X_train,\n",
    "                    y_train,\n",
    "                    epochs=30,\n",
    "                    batch_size=32,\n",
    "                    validation_data=(X_validation,y_validation))\n",
    "\n",
    "\n",
    "# Si quieres que Keras cree el conjunto de validación\n",
    "#history = model.fit(X_train_full,\n",
    "                    #y_train_full,\n",
    "                    #epochs=10,\n",
    "                    #batch_size=32,\n",
    "                    #validation_split=0.1)"
   ]
  },
  {
   "cell_type": "markdown",
   "metadata": {},
   "source": [
    "Como saber si fueron suficientes epocas????"
   ]
  },
  {
   "cell_type": "markdown",
   "metadata": {
    "colab_type": "text",
    "id": "rj3c0C3xYoKF"
   },
   "source": [
    "#### History\n",
    "\n",
    "Objeto regresado por el método `fit()` que contiene:\n",
    "- Parámetros de entrenamiento\n",
    "- La lísta de épocas\n",
    "- Loss y métricas obtenidas al final de cada época"
   ]
  },
  {
   "cell_type": "code",
   "execution_count": 53,
   "metadata": {
    "colab": {},
    "colab_type": "code",
    "id": "dtYF4vhWYoKG"
   },
   "outputs": [
    {
     "data": {
      "text/plain": [
       "{'batch_size': 32,\n",
       " 'epochs': 30,\n",
       " 'steps': 1719,\n",
       " 'samples': 55000,\n",
       " 'verbose': 0,\n",
       " 'do_validation': True,\n",
       " 'metrics': ['loss', 'accuracy', 'val_loss', 'val_accuracy']}"
      ]
     },
     "execution_count": 53,
     "metadata": {},
     "output_type": "execute_result"
    }
   ],
   "source": [
    "history.params"
   ]
  },
  {
   "cell_type": "code",
   "execution_count": 54,
   "metadata": {
    "colab": {},
    "colab_type": "code",
    "id": "AWL2PWmPYoKH",
    "scrolled": true
   },
   "outputs": [
    {
     "data": {
      "text/plain": [
       "[0,\n",
       " 1,\n",
       " 2,\n",
       " 3,\n",
       " 4,\n",
       " 5,\n",
       " 6,\n",
       " 7,\n",
       " 8,\n",
       " 9,\n",
       " 10,\n",
       " 11,\n",
       " 12,\n",
       " 13,\n",
       " 14,\n",
       " 15,\n",
       " 16,\n",
       " 17,\n",
       " 18,\n",
       " 19,\n",
       " 20,\n",
       " 21,\n",
       " 22,\n",
       " 23,\n",
       " 24,\n",
       " 25,\n",
       " 26,\n",
       " 27,\n",
       " 28,\n",
       " 29]"
      ]
     },
     "execution_count": 54,
     "metadata": {},
     "output_type": "execute_result"
    }
   ],
   "source": [
    "history.epoch"
   ]
  },
  {
   "cell_type": "code",
   "execution_count": 55,
   "metadata": {
    "colab": {},
    "colab_type": "code",
    "id": "cLfmWUhdYoKI",
    "scrolled": true
   },
   "outputs": [
    {
     "data": {
      "text/plain": [
       "{'loss': [0.6186267890670083,\n",
       "  0.41068412330800835,\n",
       "  0.37197575981616976,\n",
       "  0.34799686027873644,\n",
       "  0.33234741650277916,\n",
       "  0.3157361771713604,\n",
       "  0.30505087926387786,\n",
       "  0.29580305334221235,\n",
       "  0.28602077579064805,\n",
       "  0.27634343768033115,\n",
       "  0.26990503882169725,\n",
       "  0.263372255571322,\n",
       "  0.2571604250907898,\n",
       "  0.2497500198895281,\n",
       "  0.24469161672700535,\n",
       "  0.23779801806536588,\n",
       "  0.23388451297716661,\n",
       "  0.2293283829645677,\n",
       "  0.2230233166629618,\n",
       "  0.21855444778854197,\n",
       "  0.2152849444898692,\n",
       "  0.21072041507200762,\n",
       "  0.20657468954324723,\n",
       "  0.20390100454417143,\n",
       "  0.19849239920919592,\n",
       "  0.19658494120294398,\n",
       "  0.1937391390583732,\n",
       "  0.19002777350382372,\n",
       "  0.18608560578931463,\n",
       "  0.18371023694249716],\n",
       " 'accuracy': [0.7990909,\n",
       "  0.85385454,\n",
       "  0.8671091,\n",
       "  0.87521815,\n",
       "  0.8796,\n",
       "  0.88565457,\n",
       "  0.88934547,\n",
       "  0.89321816,\n",
       "  0.8950545,\n",
       "  0.8986,\n",
       "  0.902,\n",
       "  0.9038182,\n",
       "  0.90647274,\n",
       "  0.9094727,\n",
       "  0.9109091,\n",
       "  0.9130909,\n",
       "  0.9147636,\n",
       "  0.91574544,\n",
       "  0.91801816,\n",
       "  0.9202545,\n",
       "  0.9213273,\n",
       "  0.9227091,\n",
       "  0.92456365,\n",
       "  0.9264182,\n",
       "  0.9285455,\n",
       "  0.9283091,\n",
       "  0.93021816,\n",
       "  0.9306,\n",
       "  0.93256366,\n",
       "  0.93421817],\n",
       " 'val_loss': [0.4361538799762726,\n",
       "  0.38908916878700256,\n",
       "  0.35946820069551466,\n",
       "  0.3612912204384804,\n",
       "  0.3437082703232765,\n",
       "  0.33907998827695846,\n",
       "  0.34340990688204764,\n",
       "  0.33415949206352236,\n",
       "  0.3299788242280483,\n",
       "  0.3144136237978935,\n",
       "  0.31875226770043374,\n",
       "  0.3223459295630455,\n",
       "  0.31559477313160894,\n",
       "  0.3255674088478088,\n",
       "  0.3227729677081108,\n",
       "  0.31865551434755324,\n",
       "  0.3149942354559898,\n",
       "  0.31683867802619936,\n",
       "  0.31494349546432493,\n",
       "  0.31741647112071514,\n",
       "  0.3179824885010719,\n",
       "  0.3163645617306233,\n",
       "  0.33007176660299303,\n",
       "  0.32058301018476487,\n",
       "  0.3219002045929432,\n",
       "  0.3271281683564186,\n",
       "  0.33088849945366383,\n",
       "  0.32436513124704364,\n",
       "  0.3318619733929634,\n",
       "  0.329834469294548],\n",
       " 'val_accuracy': [0.8442,\n",
       "  0.8532,\n",
       "  0.8688,\n",
       "  0.863,\n",
       "  0.8732,\n",
       "  0.8698,\n",
       "  0.8684,\n",
       "  0.875,\n",
       "  0.8802,\n",
       "  0.8792,\n",
       "  0.8794,\n",
       "  0.881,\n",
       "  0.884,\n",
       "  0.8816,\n",
       "  0.8784,\n",
       "  0.8862,\n",
       "  0.8814,\n",
       "  0.8858,\n",
       "  0.8858,\n",
       "  0.8854,\n",
       "  0.8856,\n",
       "  0.883,\n",
       "  0.8862,\n",
       "  0.883,\n",
       "  0.8882,\n",
       "  0.8852,\n",
       "  0.885,\n",
       "  0.8846,\n",
       "  0.8814,\n",
       "  0.886]}"
      ]
     },
     "execution_count": 55,
     "metadata": {},
     "output_type": "execute_result"
    }
   ],
   "source": [
    "history.history"
   ]
  },
  {
   "cell_type": "markdown",
   "metadata": {
    "colab_type": "text",
    "id": "tTBdcUa4YoKK"
   },
   "source": [
    "#### Curvas de aprendizaje"
   ]
  },
  {
   "cell_type": "code",
   "execution_count": 56,
   "metadata": {
    "colab": {},
    "colab_type": "code",
    "id": "hL47WoPiYoKK"
   },
   "outputs": [
    {
     "data": {
      "image/png": "[encoded data removed]",
      "text/plain": [
       "<Figure size 1080x576 with 1 Axes>"
      ]
     },
     "metadata": {
      "needs_background": "light"
     },
     "output_type": "display_data"
    }
   ],
   "source": [
    "import pandas as pd\n",
    "pd.DataFrame(history.history).plot(figsize=(15, 8))\n",
    "plt.grid(True)\n",
    "plt.gca().set_ylim(0, 1) # set the vertical range to [0-1]\n",
    "plt.show()"
   ]
  },
  {
   "cell_type": "code",
   "execution_count": 57,
   "metadata": {
    "colab": {},
    "colab_type": "code",
    "id": "hlRbD0_FYoKM",
    "scrolled": false
   },
   "outputs": [
    {
     "name": "stdout",
     "output_type": "stream",
     "text": [
      "Train on 55000 samples, validate on 5000 samples\n",
      "Epoch 31/60\n",
      "55000/55000 [==============================] - 3s 55us/sample - loss: 0.1808 - accuracy: 0.9356 - val_loss: 0.3350 - val_accuracy: 0.8852\n",
      "Epoch 32/60\n",
      "55000/55000 [==============================] - 3s 56us/sample - loss: 0.1782 - accuracy: 0.9356 - val_loss: 0.3398 - val_accuracy: 0.8828\n",
      "Epoch 33/60\n",
      "55000/55000 [==============================] - 3s 56us/sample - loss: 0.1750 - accuracy: 0.9368 - val_loss: 0.3288 - val_accuracy: 0.8870\n",
      "Epoch 34/60\n",
      "55000/55000 [==============================] - 3s 57us/sample - loss: 0.1733 - accuracy: 0.9384 - val_loss: 0.3335 - val_accuracy: 0.8836\n",
      "Epoch 35/60\n",
      "55000/55000 [==============================] - 3s 56us/sample - loss: 0.1698 - accuracy: 0.9393 - val_loss: 0.3485 - val_accuracy: 0.8860\n",
      "Epoch 36/60\n",
      "55000/55000 [==============================] - 3s 55us/sample - loss: 0.1673 - accuracy: 0.9396 - val_loss: 0.3391 - val_accuracy: 0.8874\n",
      "Epoch 37/60\n",
      "55000/55000 [==============================] - 3s 55us/sample - loss: 0.1650 - accuracy: 0.9413 - val_loss: 0.3386 - val_accuracy: 0.8858\n",
      "Epoch 38/60\n",
      "55000/55000 [==============================] - 3s 56us/sample - loss: 0.1627 - accuracy: 0.9422 - val_loss: 0.3696 - val_accuracy: 0.8748\n",
      "Epoch 39/60\n",
      "55000/55000 [==============================] - 3s 55us/sample - loss: 0.1592 - accuracy: 0.9432 - val_loss: 0.3514 - val_accuracy: 0.8824\n",
      "Epoch 40/60\n",
      "55000/55000 [==============================] - 3s 55us/sample - loss: 0.1580 - accuracy: 0.9435 - val_loss: 0.3479 - val_accuracy: 0.8840\n",
      "Epoch 41/60\n",
      "55000/55000 [==============================] - 3s 54us/sample - loss: 0.1541 - accuracy: 0.9454 - val_loss: 0.3604 - val_accuracy: 0.8836\n",
      "Epoch 42/60\n",
      "55000/55000 [==============================] - 3s 55us/sample - loss: 0.1540 - accuracy: 0.9452 - val_loss: 0.3575 - val_accuracy: 0.8854\n",
      "Epoch 43/60\n",
      "55000/55000 [==============================] - 3s 55us/sample - loss: 0.1512 - accuracy: 0.9454 - val_loss: 0.3701 - val_accuracy: 0.8788\n",
      "Epoch 44/60\n",
      "55000/55000 [==============================] - 3s 54us/sample - loss: 0.1486 - accuracy: 0.9472 - val_loss: 0.3635 - val_accuracy: 0.8846\n",
      "Epoch 45/60\n",
      "55000/55000 [==============================] - 3s 55us/sample - loss: 0.1464 - accuracy: 0.9487 - val_loss: 0.3620 - val_accuracy: 0.8812\n",
      "Epoch 46/60\n",
      "55000/55000 [==============================] - 3s 56us/sample - loss: 0.1454 - accuracy: 0.9486 - val_loss: 0.3597 - val_accuracy: 0.8844\n",
      "Epoch 47/60\n",
      "55000/55000 [==============================] - 3s 56us/sample - loss: 0.1427 - accuracy: 0.9490 - val_loss: 0.3681 - val_accuracy: 0.8858\n",
      "Epoch 48/60\n",
      "55000/55000 [==============================] - 3s 56us/sample - loss: 0.1406 - accuracy: 0.9510 - val_loss: 0.3873 - val_accuracy: 0.8764\n",
      "Epoch 49/60\n",
      "55000/55000 [==============================] - 3s 56us/sample - loss: 0.1386 - accuracy: 0.9503 - val_loss: 0.3795 - val_accuracy: 0.8836\n",
      "Epoch 50/60\n",
      "55000/55000 [==============================] - 3s 55us/sample - loss: 0.1371 - accuracy: 0.9519 - val_loss: 0.3805 - val_accuracy: 0.8834\n",
      "Epoch 51/60\n",
      "55000/55000 [==============================] - 3s 55us/sample - loss: 0.1346 - accuracy: 0.9523 - val_loss: 0.3823 - val_accuracy: 0.8822\n",
      "Epoch 52/60\n",
      "55000/55000 [==============================] - 3s 56us/sample - loss: 0.1333 - accuracy: 0.9530 - val_loss: 0.3840 - val_accuracy: 0.8852\n",
      "Epoch 53/60\n",
      "55000/55000 [==============================] - 3s 55us/sample - loss: 0.1311 - accuracy: 0.9537 - val_loss: 0.3828 - val_accuracy: 0.8838\n",
      "Epoch 54/60\n",
      "55000/55000 [==============================] - 3s 56us/sample - loss: 0.1291 - accuracy: 0.9546 - val_loss: 0.3789 - val_accuracy: 0.8850\n",
      "Epoch 55/60\n",
      "55000/55000 [==============================] - 3s 55us/sample - loss: 0.1273 - accuracy: 0.9547 - val_loss: 0.3939 - val_accuracy: 0.8794\n",
      "Epoch 56/60\n",
      "55000/55000 [==============================] - 3s 55us/sample - loss: 0.1263 - accuracy: 0.9554 - val_loss: 0.3894 - val_accuracy: 0.8848\n",
      "Epoch 57/60\n",
      "55000/55000 [==============================] - 3s 55us/sample - loss: 0.1248 - accuracy: 0.9553 - val_loss: 0.4102 - val_accuracy: 0.8786\n",
      "Epoch 58/60\n",
      "55000/55000 [==============================] - 3s 55us/sample - loss: 0.1223 - accuracy: 0.9573 - val_loss: 0.4055 - val_accuracy: 0.8800\n",
      "Epoch 59/60\n",
      "55000/55000 [==============================] - 3s 55us/sample - loss: 0.1202 - accuracy: 0.9582 - val_loss: 0.3901 - val_accuracy: 0.8826\n",
      "Epoch 60/60\n",
      "55000/55000 [==============================] - 3s 55us/sample - loss: 0.1204 - accuracy: 0.9576 - val_loss: 0.3995 - val_accuracy: 0.8830\n"
     ]
    }
   ],
   "source": [
    "#Si quisiéramos seguir entrenando usando nuestro conjunto de validación\n",
    "history2 = model.fit(X_train,\n",
    "                     y_train,\n",
    "                     epochs=60,\n",
    "                     batch_size=32,\n",
    "                     validation_data=(X_validation,y_validation),\n",
    "                     initial_epoch=30)\n",
    "\n",
    "#Si quisiéramos seguir entrenando usando el conjunto de validación creado por Keras\n",
    "#history2 = model.fit(X_train_full,\n",
    "                     #y_train_full,\n",
    "                     #epochs=90,\n",
    "                     #batch_size=32,\n",
    "                     #validation_split=0.1, \n",
    "                     #initial_epoch=10)"
   ]
  },
  {
   "cell_type": "code",
   "execution_count": 59,
   "metadata": {
    "colab": {},
    "colab_type": "code",
    "id": "NYWCGRNgYoKN"
   },
   "outputs": [
    {
     "data": {
      "image/png": "[encoded data removed]",
      "text/plain": [
       "<Figure size 1080x576 with 1 Axes>"
      ]
     },
     "metadata": {
      "needs_background": "light"
     },
     "output_type": "display_data"
    }
   ],
   "source": [
    "#Si quisiéramos ver las curvas de aprendizaje de un segundo entrenamiento\n",
    "pd.DataFrame(history2.history).plot(figsize=(15, 8))\n",
    "plt.grid(True)\n",
    "plt.gca().set_ylim(0, 1) # set the vertical range to [0-1]\n",
    "plt.show()# Si empieza a subir el valor en el test, hay overfiting"
   ]
  },
  {
   "cell_type": "markdown",
   "metadata": {
    "colab_type": "text",
    "id": "ToHdMbArYoKQ"
   },
   "source": [
    "# Evaluación en conjunto de prueba\n",
    "\n",
    "Estimamos el error de generalización."
   ]
  },
  {
   "cell_type": "code",
   "execution_count": 60,
   "metadata": {
    "colab": {},
    "colab_type": "code",
    "id": "VGTEUSxDYoKQ"
   },
   "outputs": [
    {
     "name": "stdout",
     "output_type": "stream",
     "text": [
      "10000/10000 [==============================] - 0s 31us/sample - loss: 0.4087 - accuracy: 0.8789\n"
     ]
    }
   ],
   "source": [
    "loss_and_metrics = model.evaluate(X_test, y_test)"
   ]
  },
  {
   "cell_type": "markdown",
   "metadata": {
    "colab_type": "text",
    "id": "56T9fHBHYoKS"
   },
   "source": [
    "# Predicción en nuevos datos"
   ]
  },
  {
   "cell_type": "code",
   "execution_count": 61,
   "metadata": {
    "colab": {},
    "colab_type": "code",
    "id": "5CszXylJYoKS"
   },
   "outputs": [],
   "source": [
    "X_new = X_test[:5]"
   ]
  },
  {
   "cell_type": "markdown",
   "metadata": {
    "colab_type": "text",
    "id": "tcnj5tyAYoKU"
   },
   "source": [
    "#### Salidas del modelo entrenado"
   ]
  },
  {
   "cell_type": "code",
   "execution_count": 62,
   "metadata": {
    "colab": {},
    "colab_type": "code",
    "id": "fcrnMLuQYoKU",
    "scrolled": true
   },
   "outputs": [
    {
     "data": {
      "text/plain": [
       "array([[ -9.78, -14.02,  -5.77, -11.09, -10.9 ,  -6.67, -10.4 ,  -1.66,\n",
       "         -7.96,   7.32],\n",
       "       [ -3.5 , -13.34,   4.29, -16.37,   0.98, -12.37,  -0.04, -23.26,\n",
       "        -14.75, -23.8 ],\n",
       "       [ -0.85,  11.26,  -5.93,  -3.36,  -9.01, -19.08,  -6.05, -13.17,\n",
       "         -9.11, -12.23],\n",
       "       [ -4.17,   9.97,  -7.17,  -2.87,  -9.23, -19.26,  -5.64, -17.56,\n",
       "        -10.44, -14.39],\n",
       "       [  2.42, -16.95,   0.31,  -4.1 ,  -2.41, -17.97,   4.43, -23.59,\n",
       "         -5.52, -12.78]], dtype=float32)"
      ]
     },
     "execution_count": 62,
     "metadata": {},
     "output_type": "execute_result"
    }
   ],
   "source": [
    "model_output = model.predict(X_new).round(2)\n",
    "model_output"
   ]
  },
  {
   "cell_type": "markdown",
   "metadata": {
    "colab_type": "text",
    "id": "saduAqKNCKEw"
   },
   "source": [
    "#### Probabilidad estimada por clase"
   ]
  },
  {
   "cell_type": "code",
   "execution_count": 63,
   "metadata": {
    "colab": {},
    "colab_type": "code",
    "id": "rfN0PCndCVK1"
   },
   "outputs": [
    {
     "name": "stdout",
     "output_type": "stream",
     "text": [
      "[[3.76916880e-08 5.40149037e-10 2.07254220e-06 1.01049924e-08\n",
      "  1.23112871e-08 8.46751050e-07 2.02629504e-08 1.26371466e-04\n",
      "  2.32222064e-07 9.99870420e-01]\n",
      " [3.92385322e-04 2.08827462e-08 9.52381849e-01 1.01146347e-09\n",
      "  3.47631089e-02 5.53215571e-08 1.24624968e-02 1.03158248e-12\n",
      "  5.12359222e-09 6.02250617e-13]\n",
      " [5.54874623e-06 9.99993920e-01 3.42905224e-08 4.49670296e-07\n",
      "  1.58181535e-09 6.70118800e-14 3.04493319e-08 2.47679412e-11\n",
      "  1.42766177e-09 6.28511479e-11]\n",
      " [7.19429352e-07 9.99996424e-01 3.60093217e-08 2.64166874e-06\n",
      "  4.56429561e-09 2.00601295e-13 1.66338140e-07 1.10786835e-12\n",
      "  1.36894007e-09 2.62346273e-11]\n",
      " [1.16186574e-01 4.52722415e-10 1.40890153e-02 1.71353779e-04\n",
      "  9.30451264e-04 1.63215705e-10 8.68580878e-01 5.92170247e-13\n",
      "  4.17073243e-05 2.91646050e-08]]\n"
     ]
    }
   ],
   "source": [
    "probability_model = tf.keras.Sequential([model, \n",
    "                                         tf.keras.layers.Softmax()]) # ****\n",
    "\n",
    "predictions = probability_model.predict(X_new) # nos da la distribucion de probabilidad\n",
    "predictions = probability_model.predict(X_new)\n",
    "print(predictions)"
   ]
  },
  {
   "cell_type": "markdown",
   "metadata": {
    "colab_type": "text",
    "id": "SwljvKSeYoKW"
   },
   "source": [
    "#### Clase con mayor probabilidad"
   ]
  },
  {
   "cell_type": "code",
   "execution_count": 64,
   "metadata": {
    "colab": {},
    "colab_type": "code",
    "id": "4H3NhEqNYoKW"
   },
   "outputs": [
    {
     "name": "stdout",
     "output_type": "stream",
     "text": [
      "[9 2 1 1 6]\n"
     ]
    }
   ],
   "source": [
    "predictions = probability_model.predict_classes(X_new)\n",
    "print(predictions)"
   ]
  },
  {
   "cell_type": "code",
   "execution_count": 65,
   "metadata": {
    "colab": {},
    "colab_type": "code",
    "id": "KllW465KYoKZ"
   },
   "outputs": [
    {
     "data": {
      "text/plain": [
       "array(['Ankle boot', 'Pullover', 'Trouser', 'Trouser', 'Shirt'],\n",
       "      dtype='<U11')"
      ]
     },
     "execution_count": 65,
     "metadata": {},
     "output_type": "execute_result"
    }
   ],
   "source": [
    "np.array(class_names)[predictions]"
   ]
  },
  {
   "cell_type": "code",
   "execution_count": 66,
   "metadata": {
    "colab": {},
    "colab_type": "code",
    "id": "KkeAEjePYoKa"
   },
   "outputs": [
    {
     "data": {
      "text/plain": [
       "array([9, 2, 1, 1, 6], dtype=uint8)"
      ]
     },
     "execution_count": 66,
     "metadata": {},
     "output_type": "execute_result"
    }
   ],
   "source": [
    "y_test[:5]"
   ]
  },
  {
   "cell_type": "markdown",
   "metadata": {
    "colab_type": "text",
    "id": "nTjkjJK8YoKb"
   },
   "source": [
    "# Guardar y restaurar el modelo"
   ]
  },
  {
   "cell_type": "markdown",
   "metadata": {
    "colab_type": "text",
    "id": "FO9h2yfyYoKc"
   },
   "source": [
    "#### Guardar modelo"
   ]
  },
  {
   "cell_type": "code",
   "execution_count": 69,
   "metadata": {
    "colab": {},
    "colab_type": "code",
    "id": "wa6eiOarYoKc"
   },
   "outputs": [],
   "source": [
    "# Para ya tener nuestro modelo\n",
    "# Escribe el path donde quieres que se guarde\n",
    "#path = \"/content/gdrive/My Drive/keras_fashion2020.h5\" # <--path\n",
    "patho = \"keras_fashion2020.h5\" # Seguarda en la carpeta\n",
    "model.save(path) #En formato HDF5"
   ]
  },
  {
   "cell_type": "markdown",
   "metadata": {
    "colab_type": "text",
    "id": "ThZyc8wDYoKd"
   },
   "source": [
    "#### Restaurar un modelo"
   ]
  },
  {
   "cell_type": "code",
   "execution_count": 70,
   "metadata": {
    "colab": {},
    "colab_type": "code",
    "id": "YcvaqYsKYoKd"
   },
   "outputs": [
    {
     "name": "stdout",
     "output_type": "stream",
     "text": [
      "Model: \"sequential\"\n",
      "_________________________________________________________________\n",
      "Layer (type)                 Output Shape              Param #   \n",
      "=================================================================\n",
      "flatten_layer (Flatten)      (None, 784)               0         \n",
      "_________________________________________________________________\n",
      "hidden1 (Dense)              (None, 64)                50240     \n",
      "_________________________________________________________________\n",
      "output_layer (Dense)         (None, 10)                650       \n",
      "=================================================================\n",
      "Total params: 50,890\n",
      "Trainable params: 50,890\n",
      "Non-trainable params: 0\n",
      "_________________________________________________________________\n"
     ]
    }
   ],
   "source": [
    "model = tf.keras.models.load_model(patho)\n",
    "model.summary()"
   ]
  },
  {
   "cell_type": "code",
   "execution_count": 71,
   "metadata": {
    "colab": {},
    "colab_type": "code",
    "id": "j2Lpxg4IYoKg"
   },
   "outputs": [
    {
     "data": {
      "text/plain": [
       "array([9, 2, 1, 1, 6])"
      ]
     },
     "execution_count": 71,
     "metadata": {},
     "output_type": "execute_result"
    }
   ],
   "source": [
    "X_new = X_test[:5] # pretend these are new instances\n",
    "y_pred = probability_model.predict_classes(X_new)\n",
    "y_pred"
   ]
  }
 ],
 "metadata": {
  "accelerator": "GPU",
  "colab": {
   "name": "P3_Classification_fashionMNIST.ipynb",
   "provenance": []
  },
  "kernelspec": {
   "display_name": "Python 3",
   "language": "python",
   "name": "python3"
  },
  "language_info": {
   "codemirror_mode": {
    "name": "ipython",
    "version": 3
   },
   "file_extension": ".py",
   "mimetype": "text/x-python",
   "name": "python",
   "nbconvert_exporter": "python",
   "pygments_lexer": "ipython3",
   "version": "3.7.6"
  }
 },
 "nbformat": 4,
 "nbformat_minor": 1
}
