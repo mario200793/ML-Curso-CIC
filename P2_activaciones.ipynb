{
 "cells": [
  {
   "cell_type": "markdown",
   "metadata": {
    "colab_type": "text",
    "id": "WGjtrfMiUqZk"
   },
   "source": [
    "# Práctica 2: Funciones de activación"
   ]
  },
  {
   "cell_type": "code",
   "execution_count": 2,
   "metadata": {
    "colab": {},
    "colab_type": "code",
    "id": "cGdDI29AUqZo"
   },
   "outputs": [
    {
     "name": "stdout",
     "output_type": "stream",
     "text": [
      "2.1.0\n"
     ]
    }
   ],
   "source": [
    "# Imports\n",
    "\n",
    "# Si se usa colab usar este try\n",
    "#try:\n",
    "#  %tensorflow_version 2.x\n",
    "#except Exception:\n",
    "#  pass\n",
    "\n",
    "import tensorflow as tf\n",
    "print(tf.__version__)\n",
    "\n",
    "from tensorflow import keras"
   ]
  },
  {
   "cell_type": "code",
   "execution_count": 4,
   "metadata": {
    "colab": {},
    "colab_type": "code",
    "id": "rQU0VkPQUqZs"
   },
   "outputs": [
    {
     "name": "stdout",
     "output_type": "stream",
     "text": [
      "tf.Tensor([[1. 1. 1.]], shape=(1, 3), dtype=float32)\n"
     ]
    }
   ],
   "source": [
    "# Creación de datos\n",
    "\n",
    "data = tf.constant([[1.,1.,1.]]) # batch\n",
    "\n",
    "print(data)"
   ]
  },
  {
   "cell_type": "markdown",
   "metadata": {
    "colab_type": "text",
    "id": "EVHtHSdY9Bnm"
   },
   "source": [
    "## 1.1 Activación sigmoide\n",
    "\n",
    "Ajustar los pesos para obtener con sigmoide (activation=\"sigmoid\") salidas de 0, 0.5, 1"
   ]
  },
  {
   "cell_type": "code",
   "execution_count": 13,
   "metadata": {
    "colab": {},
    "colab_type": "code",
    "id": "iUx9AIULUqZu"
   },
   "outputs": [
    {
     "name": "stdout",
     "output_type": "stream",
     "text": [
      "tf.Tensor([[2.300822e-09]], shape=(1, 1), dtype=float32)\n"
     ]
    }
   ],
   "source": [
    "# Implementación del perceptrón\n",
    "from tensorflow.keras.layers import Dense\n",
    "perceptron = Dense(units=1,\n",
    "              activation=\"sigmoid\",#si queremos ligistica es sigmoid\n",
    "              use_bias=True,\n",
    "              kernel_initializer=tf.keras.initializers.constant([0.01,0,0.1]), # <--- [w1,w2,w3]\n",
    "              bias_initializer=tf.keras.initializers.constant([-20])) # <--- [b]\n",
    "\n",
    "# Aplicamos el model modelo a nuestros datos\n",
    "result = perceptron(data)\n",
    "print(result)"
   ]
  },
  {
   "cell_type": "code",
   "execution_count": 25,
   "metadata": {},
   "outputs": [
    {
     "name": "stdout",
     "output_type": "stream",
     "text": [
      "tf.Tensor([[0.62480646]], shape=(1, 1), dtype=float32)\n"
     ]
    }
   ],
   "source": [
    "# Implementación del perceptrón\n",
    "from tensorflow.keras.layers import Dense\n",
    "perceptron = Dense(units=1,\n",
    "              activation=\"sigmoid\",#si queremos ligistica es sigmoid\n",
    "              use_bias=True,\n",
    "              kernel_initializer=tf.keras.initializers.constant([0.1,0.3,0.01]), # <--- [w1,w2,w3]\n",
    "              bias_initializer=tf.keras.initializers.constant([0.1])) # <--- [b]\n",
    "\n",
    "# Aplicamos el model modelo a nuestros datos\n",
    "result = perceptron(data)\n",
    "print(result)"
   ]
  },
  {
   "cell_type": "code",
   "execution_count": 33,
   "metadata": {},
   "outputs": [
    {
     "name": "stdout",
     "output_type": "stream",
     "text": [
      "tf.Tensor([[0.97068775]], shape=(1, 1), dtype=float32)\n"
     ]
    }
   ],
   "source": [
    "# Implementación del perceptrón\n",
    "from tensorflow.keras.layers import Dense\n",
    "perceptron = Dense(units=1,\n",
    "              activation=\"sigmoid\",#si queremos ligistica es sigmoid\n",
    "              use_bias=True,\n",
    "              kernel_initializer=tf.keras.initializers.constant([0.8,0.9,0.8]), # <--- [w1,w2,w3]\n",
    "              bias_initializer=tf.keras.initializers.constant([1])) # <--- [b]\n",
    "\n",
    "# Aplicamos el model modelo a nuestros datos\n",
    "result = perceptron(data)\n",
    "print(result)"
   ]
  },
  {
   "cell_type": "markdown",
   "metadata": {
    "colab_type": "text",
    "id": "pV75IF5T4eMl"
   },
   "source": [
    "## 1.2 Activación tanh\n",
    "\n",
    "Ajustar los pesos para obtener con tanh (activation=\"tanh\") salidas de -1, 0, 1"
   ]
  },
  {
   "cell_type": "code",
   "execution_count": 41,
   "metadata": {
    "colab": {},
    "colab_type": "code",
    "id": "Fb-cjqdx5C71"
   },
   "outputs": [
    {
     "name": "stdout",
     "output_type": "stream",
     "text": [
      "tf.Tensor([[-1.]], shape=(1, 1), dtype=float32)\n"
     ]
    }
   ],
   "source": [
    "# Implementación del perceptrón\n",
    "from tensorflow.keras.layers import Dense\n",
    "perceptron = Dense(units=1,\n",
    "              activation=\"tanh\",\n",
    "              use_bias=True,\n",
    "              kernel_initializer=tf.keras.initializers.constant([0.01,0.01,0.01]), # <--- [w1,w2,w3]\n",
    "              bias_initializer=tf.keras.initializers.constant([-100])) # <--- [b]\n",
    "\n",
    "# Aplicamos el model modelo a nuestros datos\n",
    "result = perceptron(data)\n",
    "print(result)"
   ]
  },
  {
   "cell_type": "markdown",
   "metadata": {
    "colab_type": "text",
    "id": "xhN0FUh_4v9b"
   },
   "source": [
    "## 1.3 Activación ReLu\n",
    "\n",
    "Ajustar los pesos para obtener con ReLu (activation=\"relu\") salidas de 0, lineal"
   ]
  },
  {
   "cell_type": "code",
   "execution_count": 42,
   "metadata": {
    "colab": {},
    "colab_type": "code",
    "id": "YzS-Dh3m4u8C"
   },
   "outputs": [
    {
     "name": "stdout",
     "output_type": "stream",
     "text": [
      "tf.Tensor([[8.]], shape=(1, 1), dtype=float32)\n"
     ]
    }
   ],
   "source": [
    "# Implementación del perceptrón\n",
    "from tensorflow.keras.layers import Dense\n",
    "perceptron = Dense(units=1,\n",
    "              activation=\"relu\",\n",
    "              use_bias=True,\n",
    "              kernel_initializer=tf.keras.initializers.constant([1,1,1]), # <--- [w1,w2,w3]\n",
    "              bias_initializer=tf.keras.initializers.constant([5])) # <--- [b]\n",
    "\n",
    "# Aplicamos el model modelo a nuestros datos\n",
    "result = perceptron(data)\n",
    "print(result)"
   ]
  },
  {
   "cell_type": "code",
   "execution_count": 43,
   "metadata": {},
   "outputs": [
    {
     "name": "stdout",
     "output_type": "stream",
     "text": [
      "tf.Tensor([[0.]], shape=(1, 1), dtype=float32)\n"
     ]
    }
   ],
   "source": [
    "# Implementación del perceptrón\n",
    "from tensorflow.keras.layers import Dense\n",
    "perceptron = Dense(units=1,\n",
    "              activation=\"relu\",\n",
    "              use_bias=True,\n",
    "              kernel_initializer=tf.keras.initializers.constant([1,1,1]), # <--- [w1,w2,w3]\n",
    "              bias_initializer=tf.keras.initializers.constant([-5])) # <--- [b]\n",
    "\n",
    "# Aplicamos el model modelo a nuestros datos\n",
    "result = perceptron(data)\n",
    "print(result)"
   ]
  },
  {
   "cell_type": "markdown",
   "metadata": {},
   "source": [
    "Para clasificacion binaria (dato no dato, 0 o 1):\n",
    "\n",
    "- para la clasificacion podemos usar entropia cruzada(** checar que es)\n",
    "- Para salida podemos usar sigmoide\n",
    "\n",
    "Capa final, distribucion de probabilidad ( cheacar cuando aplicar, clasificasion multiclase ) \n",
    "**Entropia cruzada: "
   ]
  }
 ],
 "metadata": {
  "accelerator": "GPU",
  "colab": {
   "collapsed_sections": [],
   "name": "P2_activaciones.ipynb",
   "provenance": []
  },
  "kernelspec": {
   "display_name": "Python 3",
   "language": "python",
   "name": "python3"
  },
  "language_info": {
   "codemirror_mode": {
    "name": "ipython",
    "version": 3
   },
   "file_extension": ".py",
   "mimetype": "text/x-python",
   "name": "python",
   "nbconvert_exporter": "python",
   "pygments_lexer": "ipython3",
   "version": "3.7.6"
  }
 },
 "nbformat": 4,
 "nbformat_minor": 1
}
